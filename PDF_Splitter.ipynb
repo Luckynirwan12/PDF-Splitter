{
  "nbformat": 4,
  "nbformat_minor": 0,
  "metadata": {
    "colab": {
      "provenance": [],
      "authorship_tag": "ABX9TyPJ3sEl71ZF44exyeu4kf49",
      "include_colab_link": true
    },
    "kernelspec": {
      "name": "python3",
      "display_name": "Python 3"
    },
    "language_info": {
      "name": "python"
    }
  },
  "cells": [
    {
      "cell_type": "markdown",
      "metadata": {
        "id": "view-in-github",
        "colab_type": "text"
      },
      "source": [
        "<a href=\"https://colab.research.google.com/github/Luckynirwan12/PDF-Splitter/blob/main/PDF_Splitter.ipynb\" target=\"_parent\"><img src=\"https://colab.research.google.com/assets/colab-badge.svg\" alt=\"Open In Colab\"/></a>"
      ]
    },
    {
      "cell_type": "markdown",
      "source": [
        "## **PDF Splitter**"
      ],
      "metadata": {
        "id": "3GW_6XdtPEgM"
      }
    },
    {
      "cell_type": "code",
      "execution_count": null,
      "metadata": {
        "colab": {
          "base_uri": "https://localhost:8080/"
        },
        "id": "UR3-2jgWc2z7",
        "outputId": "c996a962-bcfb-4683-a65a-1dd509c9ac22"
      },
      "outputs": [
        {
          "output_type": "stream",
          "name": "stdout",
          "text": [
            "Collecting PyPDF2\n",
            "  Downloading pypdf2-3.0.1-py3-none-any.whl.metadata (6.8 kB)\n",
            "Downloading pypdf2-3.0.1-py3-none-any.whl (232 kB)\n",
            "\u001b[?25l   \u001b[90m━━━━━━━━━━━━━━━━━━━━━━━━━━━━━━━━━━━━━━━━\u001b[0m \u001b[32m0.0/232.6 kB\u001b[0m \u001b[31m?\u001b[0m eta \u001b[36m-:--:--\u001b[0m\r\u001b[2K   \u001b[91m━━━━━━━━━━━━━━━━━━━━━━━━━━━━━━━━━━━━━━\u001b[0m\u001b[91m╸\u001b[0m\u001b[90m━\u001b[0m \u001b[32m225.3/232.6 kB\u001b[0m \u001b[31m6.8 MB/s\u001b[0m eta \u001b[36m0:00:01\u001b[0m\r\u001b[2K   \u001b[90m━━━━━━━━━━━━━━━━━━━━━━━━━━━━━━━━━━━━━━━━\u001b[0m \u001b[32m232.6/232.6 kB\u001b[0m \u001b[31m5.1 MB/s\u001b[0m eta \u001b[36m0:00:00\u001b[0m\n",
            "\u001b[?25hInstalling collected packages: PyPDF2\n",
            "Successfully installed PyPDF2-3.0.1\n"
          ]
        }
      ],
      "source": [
        "# Install the PyPDF2, this is needed to read from and write to PDF files in Python\n",
        "!pip install PyPDF2"
      ]
    },
    {
      "cell_type": "code",
      "source": [
        "# Import PdfReader to read PDF files, and PdfWriter to create and write new PDF files\n",
        "from PyPDF2 import PdfReader, PdfWriter\n",
        "\n",
        "# Import os module to handle file system operations like checking and creating directories\n",
        "import os"
      ],
      "metadata": {
        "id": "JNxseKXndEjF"
      },
      "execution_count": null,
      "outputs": []
    },
    {
      "cell_type": "code",
      "source": [
        "# Function to split a PDF file into two parts at a specific page number\n",
        "def split_pdf(input_pdf, output_dir, split_page):\n",
        "  # Create the output directory if it doesn't exist\n",
        "  if not os.path.exists(output_dir):\n",
        "    os.makedirs(output_dir)\n",
        "\n",
        "  # Open and read the input PDF file in binary mode\n",
        "  pdf = PdfReader(open(input_pdf, 'rb'))\n",
        "\n",
        "  # Get the total number of pages in the PDF\n",
        "  total_pages = len(pdf.pages)\n",
        "\n",
        "  # Ensure the split page number is valid (between 1 and total_pages - 1)\n",
        "  if split_page < 1 or split_page >= total_pages:\n",
        "    raise ValueError(\"Split page number must be between 1 and the total number of pages minus one.\")\n",
        "\n",
        "  # Create PDF writers for the two parts\n",
        "  part1_writer = PdfWriter()\n",
        "  part2_writer = PdfWriter()\n",
        "\n",
        "   # Loop through all pages in the PDF\n",
        "  for page_num in range(total_pages):\n",
        "    # If page number is less than split_page, add to part1\n",
        "    if page_num < split_page:\n",
        "      part1_writer.add_page(pdf.pages[page_num])\n",
        "    # Else, add to part2\n",
        "    else:\n",
        "      part2_writer.add_page(pdf.pages[page_num])\n",
        "\n",
        "  # Create file paths for the output PDFs\n",
        "  part1_filename = os.path.join(output_dir, 'part1.pdf')\n",
        "  part2_filename = os.path.join(output_dir, 'part2.pdf')\n",
        "\n",
        "   # Write the first part PDF to file\n",
        "  with open(part1_filename, 'wb') as part1_pdf:\n",
        "     part1_writer.write(part1_pdf)\n",
        "\n",
        "  # Write the second part PDF to file\n",
        "  with open(part2_filename, 'wb') as part2_pdf:\n",
        "    part2_writer.write(part2_pdf)\n",
        "\n",
        "  # Print confirmation messages with file paths\n",
        "  print(f'Created: {part1_filename}')\n",
        "  print(f'Created: {part2_filename}')\n",
        "\n",
        "# Main block: runs only when the script is executed directly\n",
        "if __name__ == \"__main__\":\n",
        "  # Path to the input PDF file\n",
        "  input_pdf = '/content/Research.pdf'\n",
        "\n",
        "  # Output directory for the split files\n",
        "  output_dir = '/content/ouput'\n",
        "\n",
        "  # Ask user for the page number to split at and convert to int\n",
        "  split_page = int(input(\"Enter the page number where you want to split the PDF: \"))\n",
        "\n",
        "  # Call the split_pdf function\n",
        "  split_pdf(input_pdf, output_dir, split_page)"
      ],
      "metadata": {
        "colab": {
          "base_uri": "https://localhost:8080/"
        },
        "id": "MmErLlWQdpTI",
        "outputId": "afd7b7b3-4ddd-4b10-e207-f80414361168"
      },
      "execution_count": null,
      "outputs": [
        {
          "output_type": "stream",
          "name": "stdout",
          "text": [
            "Enter the page number where you want to split the PDF: 5\n",
            "Created: /content/ouput/part1.pdf\n",
            "Created: /content/ouput/part2.pdf\n"
          ]
        }
      ]
    }
  ]
}